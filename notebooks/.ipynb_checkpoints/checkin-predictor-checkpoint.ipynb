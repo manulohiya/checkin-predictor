{
 "cells": [
  {
   "cell_type": "code",
   "execution_count": 6,
   "metadata": {},
   "outputs": [
    {
     "data": {
      "text/html": [
       "<div>\n",
       "<style>\n",
       "    .dataframe thead tr:only-child th {\n",
       "        text-align: right;\n",
       "    }\n",
       "\n",
       "    .dataframe thead th {\n",
       "        text-align: left;\n",
       "    }\n",
       "\n",
       "    .dataframe tbody tr th {\n",
       "        vertical-align: top;\n",
       "    }\n",
       "</style>\n",
       "<table border=\"1\" class=\"dataframe\">\n",
       "  <thead>\n",
       "    <tr style=\"text-align: right;\">\n",
       "      <th></th>\n",
       "      <th>location</th>\n",
       "      <th>inspection_score</th>\n",
       "    </tr>\n",
       "    <tr>\n",
       "      <th>business_name</th>\n",
       "      <th></th>\n",
       "      <th></th>\n",
       "    </tr>\n",
       "  </thead>\n",
       "  <tbody>\n",
       "    <tr>\n",
       "      <th>Tiramisu Kitchen</th>\n",
       "      <td>(37.791116, -122.403816)</td>\n",
       "      <td>87.400000</td>\n",
       "    </tr>\n",
       "    <tr>\n",
       "      <th>Nrgize Lifestyle Cafe</th>\n",
       "      <td>(37.786848, -122.421547)</td>\n",
       "      <td>94.000000</td>\n",
       "    </tr>\n",
       "    <tr>\n",
       "      <th>OMNI S.F. Hotel - 2nd Floor Pantry</th>\n",
       "      <td>(37.792888, -122.403135)</td>\n",
       "      <td>96.333333</td>\n",
       "    </tr>\n",
       "    <tr>\n",
       "      <th>Norman's Ice Cream and Freezes</th>\n",
       "      <td>(37.807155, -122.419004)</td>\n",
       "      <td>87.750000</td>\n",
       "    </tr>\n",
       "    <tr>\n",
       "      <th>CHARLIE'S DELI CAFE</th>\n",
       "      <td>(37.747114, -122.413641)</td>\n",
       "      <td>83.200000</td>\n",
       "    </tr>\n",
       "  </tbody>\n",
       "</table>\n",
       "</div>"
      ],
      "text/plain": [
       "                                                    location  inspection_score\n",
       "business_name                                                                 \n",
       "Tiramisu Kitchen                    (37.791116, -122.403816)         87.400000\n",
       "Nrgize Lifestyle Cafe               (37.786848, -122.421547)         94.000000\n",
       "OMNI S.F. Hotel - 2nd Floor Pantry  (37.792888, -122.403135)         96.333333\n",
       "Norman's Ice Cream and Freezes      (37.807155, -122.419004)         87.750000\n",
       "CHARLIE'S DELI CAFE                 (37.747114, -122.413641)         83.200000"
      ]
     },
     "execution_count": 6,
     "metadata": {},
     "output_type": "execute_result"
    }
   ],
   "source": [
    "import os\n",
    "import pandas as pd\n",
    "import gmaps\n",
    "import googlemaps as g\n",
    "import yaml\n",
    "import numpy\n",
    "import matplotlib.pyplot as plt\n",
    "from IPython.display import Image\n",
    "%matplotlib inline\n",
    "plt.style.use('ggplot')\n",
    "\n",
    "pd.set_option('display.max_rows', 20)\n",
    "pd.set_option('display.max_columns', 20)\n",
    "pd.set_option('display.notebook_repr_html', True)\n",
    "\n",
    "# Loading dataset\n",
    "df = pd.read_csv(os.path.join('..', 'datasets', 'avg_inspection_scores_by_venue.csv'))\n",
    "df = df.set_index('business_name')\n",
    "df.drop(['Unnamed: 0'],inplace = True, axis = 1)\n",
    "df.head()"
   ]
  },
  {
   "cell_type": "code",
   "execution_count": 7,
   "metadata": {},
   "outputs": [
    {
     "data": {
      "text/plain": [
       "5568"
      ]
     },
     "execution_count": 7,
     "metadata": {},
     "output_type": "execute_result"
    }
   ],
   "source": [
    "len(df)"
   ]
  },
  {
   "cell_type": "code",
   "execution_count": null,
   "metadata": {
    "collapsed": true
   },
   "outputs": [],
   "source": [
    "# To get FS id, checkins\n",
    "# https://api.foursquare.com/v2/venues/search?ll=37.791116, -122.403816&intent='match'&limit=1&query='tiramisu kitchen'&oauth_token=CG5FO24JIIR5103OGPZ1KYYBMWYHFKJFNAFK3213GSCPVYBN&v=20170804\n",
    "\n",
    "# To get price rating, ratings, number of photos\n",
    "# https://api.foursquare.com/v2/venues/4ae289b9f964a520e78e21e3?oauth_token=CG5FO24JIIR5103OGPZ1KYYBMWYHFKJFNAFK3213GSCPVYBN&v=20170804"
   ]
  }
 ],
 "metadata": {
  "kernelspec": {
   "display_name": "Python 2",
   "language": "python",
   "name": "python2"
  },
  "language_info": {
   "codemirror_mode": {
    "name": "ipython",
    "version": 2
   },
   "file_extension": ".py",
   "mimetype": "text/x-python",
   "name": "python",
   "nbconvert_exporter": "python",
   "pygments_lexer": "ipython2",
   "version": "2.7.13"
  }
 },
 "nbformat": 4,
 "nbformat_minor": 2
}
