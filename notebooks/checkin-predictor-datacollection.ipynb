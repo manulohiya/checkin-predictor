{
 "cells": [
  {
   "cell_type": "code",
   "execution_count": 19,
   "metadata": {},
   "outputs": [
    {
     "ename": "IOError",
     "evalue": "[Errno 2] No such file or directory: 'google.yaml'",
     "output_type": "error",
     "traceback": [
      "\u001b[0;31m---------------------------------------------------------------------------\u001b[0m",
      "\u001b[0;31mIOError\u001b[0m                                   Traceback (most recent call last)",
      "\u001b[0;32m<ipython-input-19-5c53cbfaaf8a>\u001b[0m in \u001b[0;36m<module>\u001b[0;34m()\u001b[0m\n\u001b[1;32m     15\u001b[0m \u001b[0;34m\u001b[0m\u001b[0m\n\u001b[1;32m     16\u001b[0m \u001b[0;31m# Applying google credentials\u001b[0m\u001b[0;34m\u001b[0m\u001b[0;34m\u001b[0m\u001b[0m\n\u001b[0;32m---> 17\u001b[0;31m \u001b[0;32mwith\u001b[0m \u001b[0mopen\u001b[0m\u001b[0;34m(\u001b[0m\u001b[0;34m'google.yaml'\u001b[0m\u001b[0;34m,\u001b[0m \u001b[0;34m'r'\u001b[0m\u001b[0;34m)\u001b[0m \u001b[0;32mas\u001b[0m \u001b[0mf\u001b[0m\u001b[0;34m:\u001b[0m\u001b[0;34m\u001b[0m\u001b[0m\n\u001b[0m\u001b[1;32m     18\u001b[0m     \u001b[0mgoogle_credentials\u001b[0m \u001b[0;34m=\u001b[0m \u001b[0myaml\u001b[0m\u001b[0;34m.\u001b[0m\u001b[0mload\u001b[0m\u001b[0;34m(\u001b[0m\u001b[0mf\u001b[0m\u001b[0;34m)\u001b[0m\u001b[0;34m\u001b[0m\u001b[0m\n\u001b[1;32m     19\u001b[0m \u001b[0;34m\u001b[0m\u001b[0m\n",
      "\u001b[0;31mIOError\u001b[0m: [Errno 2] No such file or directory: 'google.yaml'"
     ]
    }
   ],
   "source": [
    "import os\n",
    "import pandas as pd\n",
    "import gmaps\n",
    "import googlemaps as g\n",
    "import yaml\n",
    "import numpy\n",
    "\n",
    "pd.set_option('display.max_rows', 20)\n",
    "pd.set_option('display.max_columns', 20)\n",
    "pd.set_option('display.notebook_repr_html', True)\n",
    "\n",
    "# Loading dataset\n",
    "df = pd.read_csv(os.path.join('..', 'datasets', 'Restaurant_Scores_Cleaned.csv'))\n",
    "df = df.set_index('business_id')\n",
    "\n",
    "# Applying google credentials\n",
    "with open('google.yaml', 'r') as f:\n",
    "    google_credentials = yaml.load(f)\n",
    "\n",
    "google_api_key = google_credentials['api-key']\n",
    "gmaps.configure(api_key = google_api_key)\n",
    "\n",
    "\n",
    "\n",
    "df"
   ]
  },
  {
   "cell_type": "code",
   "execution_count": 3,
   "metadata": {},
   "outputs": [
    {
     "name": "stdout",
     "output_type": "stream",
     "text": [
      "53729\n"
     ]
    },
    {
     "data": {
      "text/html": [
       "<div>\n",
       "<style>\n",
       "    .dataframe thead tr:only-child th {\n",
       "        text-align: right;\n",
       "    }\n",
       "\n",
       "    .dataframe thead th {\n",
       "        text-align: left;\n",
       "    }\n",
       "\n",
       "    .dataframe tbody tr th {\n",
       "        vertical-align: top;\n",
       "    }\n",
       "</style>\n",
       "<table border=\"1\" class=\"dataframe\">\n",
       "  <thead>\n",
       "    <tr style=\"text-align: right;\">\n",
       "      <th></th>\n",
       "      <th>business_name</th>\n",
       "      <th>inspection_id</th>\n",
       "      <th>inspection_date</th>\n",
       "      <th>inspection_score</th>\n",
       "      <th>inspection_type</th>\n",
       "      <th>violation_id</th>\n",
       "      <th>violation_description</th>\n",
       "      <th>risk_category</th>\n",
       "      <th>address</th>\n",
       "      <th>location</th>\n",
       "    </tr>\n",
       "    <tr>\n",
       "      <th>business_id</th>\n",
       "      <th></th>\n",
       "      <th></th>\n",
       "      <th></th>\n",
       "      <th></th>\n",
       "      <th></th>\n",
       "      <th></th>\n",
       "      <th></th>\n",
       "      <th></th>\n",
       "      <th></th>\n",
       "      <th></th>\n",
       "    </tr>\n",
       "  </thead>\n",
       "  <tbody>\n",
       "    <tr>\n",
       "      <th>10</th>\n",
       "      <td>Tiramisu Kitchen</td>\n",
       "      <td>10_20140114</td>\n",
       "      <td>01/14/2014 12:00:00 AM</td>\n",
       "      <td>92.0</td>\n",
       "      <td>Routine - Unscheduled</td>\n",
       "      <td>10_20140114_103119</td>\n",
       "      <td>Inadequate and inaccessible handwashing facili...</td>\n",
       "      <td>Moderate Risk</td>\n",
       "      <td>033 Belden Pl San Francisco</td>\n",
       "      <td>(37.791116, -122.403816)</td>\n",
       "    </tr>\n",
       "    <tr>\n",
       "      <th>10</th>\n",
       "      <td>Tiramisu Kitchen</td>\n",
       "      <td>10_20140114</td>\n",
       "      <td>01/14/2014 12:00:00 AM</td>\n",
       "      <td>92.0</td>\n",
       "      <td>Routine - Unscheduled</td>\n",
       "      <td>10_20140114_103145</td>\n",
       "      <td>Improper storage of equipment utensils or linens</td>\n",
       "      <td>Low Risk</td>\n",
       "      <td>033 Belden Pl San Francisco</td>\n",
       "      <td>(37.791116, -122.403816)</td>\n",
       "    </tr>\n",
       "    <tr>\n",
       "      <th>10</th>\n",
       "      <td>Tiramisu Kitchen</td>\n",
       "      <td>10_20140114</td>\n",
       "      <td>01/14/2014 12:00:00 AM</td>\n",
       "      <td>92.0</td>\n",
       "      <td>Routine - Unscheduled</td>\n",
       "      <td>10_20140114_103154</td>\n",
       "      <td>Unclean or degraded floors walls or ceilings</td>\n",
       "      <td>Low Risk</td>\n",
       "      <td>033 Belden Pl San Francisco</td>\n",
       "      <td>(37.791116, -122.403816)</td>\n",
       "    </tr>\n",
       "    <tr>\n",
       "      <th>10</th>\n",
       "      <td>Tiramisu Kitchen</td>\n",
       "      <td>10_20140729</td>\n",
       "      <td>07/29/2014 12:00:00 AM</td>\n",
       "      <td>94.0</td>\n",
       "      <td>Routine - Unscheduled</td>\n",
       "      <td>10_20140729_103144</td>\n",
       "      <td>Unapproved or unmaintained equipment or utensils</td>\n",
       "      <td>Low Risk</td>\n",
       "      <td>033 Belden Pl San Francisco</td>\n",
       "      <td>(37.791116, -122.403816)</td>\n",
       "    </tr>\n",
       "    <tr>\n",
       "      <th>10</th>\n",
       "      <td>Tiramisu Kitchen</td>\n",
       "      <td>10_20140729</td>\n",
       "      <td>07/29/2014 12:00:00 AM</td>\n",
       "      <td>94.0</td>\n",
       "      <td>Routine - Unscheduled</td>\n",
       "      <td>10_20140729_103129</td>\n",
       "      <td>Insufficient hot water or running water</td>\n",
       "      <td>Moderate Risk</td>\n",
       "      <td>033 Belden Pl San Francisco</td>\n",
       "      <td>(37.791116, -122.403816)</td>\n",
       "    </tr>\n",
       "  </tbody>\n",
       "</table>\n",
       "</div>"
      ],
      "text/plain": [
       "                business_name inspection_id         inspection_date  \\\n",
       "business_id                                                           \n",
       "10           Tiramisu Kitchen   10_20140114  01/14/2014 12:00:00 AM   \n",
       "10           Tiramisu Kitchen   10_20140114  01/14/2014 12:00:00 AM   \n",
       "10           Tiramisu Kitchen   10_20140114  01/14/2014 12:00:00 AM   \n",
       "10           Tiramisu Kitchen   10_20140729  07/29/2014 12:00:00 AM   \n",
       "10           Tiramisu Kitchen   10_20140729  07/29/2014 12:00:00 AM   \n",
       "\n",
       "             inspection_score        inspection_type        violation_id  \\\n",
       "business_id                                                                \n",
       "10                       92.0  Routine - Unscheduled  10_20140114_103119   \n",
       "10                       92.0  Routine - Unscheduled  10_20140114_103145   \n",
       "10                       92.0  Routine - Unscheduled  10_20140114_103154   \n",
       "10                       94.0  Routine - Unscheduled  10_20140729_103144   \n",
       "10                       94.0  Routine - Unscheduled  10_20140729_103129   \n",
       "\n",
       "                                         violation_description  risk_category  \\\n",
       "business_id                                                                     \n",
       "10           Inadequate and inaccessible handwashing facili...  Moderate Risk   \n",
       "10            Improper storage of equipment utensils or linens       Low Risk   \n",
       "10                Unclean or degraded floors walls or ceilings       Low Risk   \n",
       "10            Unapproved or unmaintained equipment or utensils       Low Risk   \n",
       "10                     Insufficient hot water or running water  Moderate Risk   \n",
       "\n",
       "                                 address                  location  \n",
       "business_id                                                         \n",
       "10           033 Belden Pl San Francisco  (37.791116, -122.403816)  \n",
       "10           033 Belden Pl San Francisco  (37.791116, -122.403816)  \n",
       "10           033 Belden Pl San Francisco  (37.791116, -122.403816)  \n",
       "10           033 Belden Pl San Francisco  (37.791116, -122.403816)  \n",
       "10           033 Belden Pl San Francisco  (37.791116, -122.403816)  "
      ]
     },
     "execution_count": 3,
     "metadata": {},
     "output_type": "execute_result"
    }
   ],
   "source": [
    "#Dropping unnecessary address colums\n",
    "df.drop(['business_location'], inplace = True, axis = 1)\n",
    "\n",
    "print len(df)\n",
    "df.head()"
   ]
  },
  {
   "cell_type": "code",
   "execution_count": 4,
   "metadata": {},
   "outputs": [
    {
     "data": {
      "text/plain": [
       "93"
      ]
     },
     "execution_count": 4,
     "metadata": {},
     "output_type": "execute_result"
    }
   ],
   "source": [
    "# Identifying Nulls \n",
    "null_data = df[df['location'].isnull()]\n",
    "null_data.head()\n",
    "len(null_data)\n",
    "\n"
   ]
  },
  {
   "cell_type": "code",
   "execution_count": 5,
   "metadata": {},
   "outputs": [
    {
     "data": {
      "text/plain": [
       "53636"
      ]
     },
     "execution_count": 5,
     "metadata": {},
     "output_type": "execute_result"
    }
   ],
   "source": [
    "# Drop all nulls since is a small number\n",
    "df.dropna(subset = ['location'], inplace = True)\n",
    "len(df)"
   ]
  },
  {
   "cell_type": "code",
   "execution_count": 6,
   "metadata": {},
   "outputs": [
    {
     "data": {
      "text/plain": [
       "53567"
      ]
     },
     "execution_count": 6,
     "metadata": {},
     "output_type": "execute_result"
    }
   ],
   "source": [
    "# Dropping rows where lat long = 0,0\n",
    "df = df[df.location != '(0, 0)']\n",
    "len(df)"
   ]
  },
  {
   "cell_type": "code",
   "execution_count": 7,
   "metadata": {},
   "outputs": [
    {
     "data": {
      "text/plain": [
       "90.0     3671\n",
       "92.0     3367\n",
       "94.0     3205\n",
       "96.0     2729\n",
       "100.0    2716\n",
       "88.0     2305\n",
       "86.0     2161\n",
       "83.0     1379\n",
       "84.0     1328\n",
       "85.0     1325\n",
       "         ... \n",
       "59.0       68\n",
       "61.0       66\n",
       "56.0       43\n",
       "54.0       41\n",
       "58.0       35\n",
       "53.0       24\n",
       "47.0       14\n",
       "46.0       13\n",
       "52.0       11\n",
       "50.0       11\n",
       "Name: inspection_score, Length: 49, dtype: int64"
      ]
     },
     "execution_count": 7,
     "metadata": {},
     "output_type": "execute_result"
    }
   ],
   "source": [
    "df['inspection_score'].value_counts()"
   ]
  },
  {
   "cell_type": "code",
   "execution_count": 8,
   "metadata": {},
   "outputs": [
    {
     "data": {
      "text/plain": [
       "Routine - Unscheduled                41175\n",
       "Reinspection/Followup                 5502\n",
       "New Ownership                         1915\n",
       "Complaint                             1892\n",
       "New Construction                      1685\n",
       "Non-inspection site visit              864\n",
       "Structural Inspection                  162\n",
       "Complaint Reinspection/Followup        144\n",
       "Routine - Scheduled                    131\n",
       "Foodborne Illness Investigation         84\n",
       "Special Event                            6\n",
       "Administrative or Document Review        5\n",
       "Community Health Assessment              1\n",
       "Multi-agency Investigation               1\n",
       "Name: inspection_type, dtype: int64"
      ]
     },
     "execution_count": 8,
     "metadata": {},
     "output_type": "execute_result"
    }
   ],
   "source": [
    "df['inspection_type'].value_counts()"
   ]
  },
  {
   "cell_type": "code",
   "execution_count": 9,
   "metadata": {},
   "outputs": [
    {
     "data": {
      "text/plain": [
       "Unclean or degraded floors walls or ceilings                          3563\n",
       "Moderate risk food holding temperature                                2799\n",
       "Inadequate and inaccessible handwashing facilities                    2605\n",
       "Unapproved or unmaintained equipment or utensils                      2424\n",
       "Inadequately cleaned or sanitized food contact surfaces               2315\n",
       "Wiping cloths not clean or properly stored or inadequate sanitizer    2292\n",
       "Improper food storage                                                 2142\n",
       "Foods not protected from contamination                                1896\n",
       "Unclean nonfood contact surfaces                                      1841\n",
       "High risk food holding temperature                                    1627\n",
       "                                                                      ... \n",
       "Reservice of previously served foods                                     7\n",
       "Unreported or unrestricted ill employee with communicable disease        6\n",
       "Discharge from employee nose mouth or eye                                6\n",
       "Prohibited food served to sensitive population                           4\n",
       "Noncompliance with Gulf Coast oyster regulation                          3\n",
       "Mobile food facility not operating with an approved commissary           3\n",
       "Noncompliance with Cottage Food Operation                                2\n",
       "Improperly displayed mobile food permit or signage                       2\n",
       "No restroom facility within 200 feet of mobile food facility             1\n",
       "Mobile food facility HCD insignia unavailable                            1\n",
       "Name: violation_description, Length: 68, dtype: int64"
      ]
     },
     "execution_count": 9,
     "metadata": {},
     "output_type": "execute_result"
    }
   ],
   "source": [
    "df['violation_description'].value_counts()"
   ]
  },
  {
   "cell_type": "code",
   "execution_count": 11,
   "metadata": {},
   "outputs": [
    {
     "data": {
      "text/plain": [
       "Low Risk         20890\n",
       "Moderate Risk    14247\n",
       "High Risk         5601\n",
       "Name: risk_category, dtype: int64"
      ]
     },
     "execution_count": 11,
     "metadata": {},
     "output_type": "execute_result"
    }
   ],
   "source": [
    "df['risk_category'].value_counts()\n"
   ]
  },
  {
   "cell_type": "code",
   "execution_count": 12,
   "metadata": {
    "collapsed": true
   },
   "outputs": [],
   "source": [
    "# # Identifying Nulls for risk category\n",
    "# null_data = df[df['risk_category'].isnull()]\n",
    "# null_data.head()\n",
    "# len(null_data)"
   ]
  },
  {
   "cell_type": "code",
   "execution_count": 14,
   "metadata": {},
   "outputs": [],
   "source": [
    "df['risk_category'].fillna('No Risk', inplace=True)"
   ]
  },
  {
   "cell_type": "code",
   "execution_count": 15,
   "metadata": {},
   "outputs": [
    {
     "data": {
      "text/plain": [
       "Low Risk         20890\n",
       "Moderate Risk    14247\n",
       "No Risk          12829\n",
       "High Risk         5601\n",
       "Name: risk_category, dtype: int64"
      ]
     },
     "execution_count": 15,
     "metadata": {},
     "output_type": "execute_result"
    }
   ],
   "source": [
    "df['risk_category'].value_counts()"
   ]
  },
  {
   "cell_type": "code",
   "execution_count": 16,
   "metadata": {},
   "outputs": [],
   "source": [
    "color = df.risk_category.map({'High Risk': 'red', 'Moderate Risk': 'orange', 'Low Risk': 'yellow' , 'No Risk': 'green'})"
   ]
  },
  {
   "cell_type": "code",
   "execution_count": null,
   "metadata": {
    "collapsed": true
   },
   "outputs": [],
   "source": []
  }
 ],
 "metadata": {
  "kernelspec": {
   "display_name": "Python 2",
   "language": "python",
   "name": "python2"
  },
  "language_info": {
   "codemirror_mode": {
    "name": "ipython",
    "version": 2
   },
   "file_extension": ".py",
   "mimetype": "text/x-python",
   "name": "python",
   "nbconvert_exporter": "python",
   "pygments_lexer": "ipython2",
   "version": "2.7.13"
  }
 },
 "nbformat": 4,
 "nbformat_minor": 2
}
