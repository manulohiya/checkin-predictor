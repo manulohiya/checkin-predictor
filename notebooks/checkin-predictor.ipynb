{
 "cells": [
  {
   "cell_type": "code",
   "execution_count": 58,
   "metadata": {},
   "outputs": [
    {
     "data": {
      "text/html": [
       "<div>\n",
       "<style>\n",
       "    .dataframe thead tr:only-child th {\n",
       "        text-align: right;\n",
       "    }\n",
       "\n",
       "    .dataframe thead th {\n",
       "        text-align: left;\n",
       "    }\n",
       "\n",
       "    .dataframe tbody tr th {\n",
       "        vertical-align: top;\n",
       "    }\n",
       "</style>\n",
       "<table border=\"1\" class=\"dataframe\">\n",
       "  <thead>\n",
       "    <tr style=\"text-align: right;\">\n",
       "      <th></th>\n",
       "      <th>business_name</th>\n",
       "      <th>location</th>\n",
       "      <th>inspection_score</th>\n",
       "    </tr>\n",
       "  </thead>\n",
       "  <tbody>\n",
       "    <tr>\n",
       "      <th>0</th>\n",
       "      <td>Tiramisu Kitchen</td>\n",
       "      <td>(37.791116, -122.403816)</td>\n",
       "      <td>87.400000</td>\n",
       "    </tr>\n",
       "    <tr>\n",
       "      <th>1</th>\n",
       "      <td>Nrgize Lifestyle Cafe</td>\n",
       "      <td>(37.786848, -122.421547)</td>\n",
       "      <td>94.000000</td>\n",
       "    </tr>\n",
       "    <tr>\n",
       "      <th>2</th>\n",
       "      <td>OMNI S.F. Hotel - 2nd Floor Pantry</td>\n",
       "      <td>(37.792888, -122.403135)</td>\n",
       "      <td>96.333333</td>\n",
       "    </tr>\n",
       "    <tr>\n",
       "      <th>3</th>\n",
       "      <td>Norman's Ice Cream and Freezes</td>\n",
       "      <td>(37.807155, -122.419004)</td>\n",
       "      <td>87.750000</td>\n",
       "    </tr>\n",
       "    <tr>\n",
       "      <th>4</th>\n",
       "      <td>CHARLIE'S DELI CAFE</td>\n",
       "      <td>(37.747114, -122.413641)</td>\n",
       "      <td>83.200000</td>\n",
       "    </tr>\n",
       "  </tbody>\n",
       "</table>\n",
       "</div>"
      ],
      "text/plain": [
       "                        business_name                  location  \\\n",
       "0                    Tiramisu Kitchen  (37.791116, -122.403816)   \n",
       "1               Nrgize Lifestyle Cafe  (37.786848, -122.421547)   \n",
       "2  OMNI S.F. Hotel - 2nd Floor Pantry  (37.792888, -122.403135)   \n",
       "3      Norman's Ice Cream and Freezes  (37.807155, -122.419004)   \n",
       "4                 CHARLIE'S DELI CAFE  (37.747114, -122.413641)   \n",
       "\n",
       "   inspection_score  \n",
       "0         87.400000  \n",
       "1         94.000000  \n",
       "2         96.333333  \n",
       "3         87.750000  \n",
       "4         83.200000  "
      ]
     },
     "execution_count": 58,
     "metadata": {},
     "output_type": "execute_result"
    }
   ],
   "source": [
    "import os\n",
    "import pandas as pd\n",
    "import gmaps\n",
    "import googlemaps as g\n",
    "import yaml\n",
    "import numpy\n",
    "import matplotlib.pyplot as plt\n",
    "from IPython.display import Image\n",
    "import foursquare\n",
    "\n",
    "\n",
    "\n",
    "%matplotlib inline\n",
    "plt.style.use('ggplot')\n",
    "\n",
    "pd.set_option('display.max_rows', 20)\n",
    "pd.set_option('display.max_columns', 20)\n",
    "pd.set_option('display.notebook_repr_html', True)\n",
    "\n",
    "# Loading dataset\n",
    "df = pd.read_csv(os.path.join('..', 'datasets', 'avg_inspection_scores_by_venue.csv'))\n",
    "# df = df.set_index(id)\n",
    "df.drop(['Unnamed: 0'],inplace = True, axis = 1)\n",
    "df.head()"
   ]
  },
  {
   "cell_type": "code",
   "execution_count": 59,
   "metadata": {},
   "outputs": [
    {
     "data": {
      "text/plain": [
       "5568"
      ]
     },
     "execution_count": 59,
     "metadata": {},
     "output_type": "execute_result"
    }
   ],
   "source": [
    "len(df)"
   ]
  },
  {
   "cell_type": "code",
   "execution_count": 71,
   "metadata": {},
   "outputs": [],
   "source": [
    "# Applying foursquare credentials\n",
    "with open('foursquare.yaml', 'r') as f:\n",
    "    fs_credentials = yaml.load(f)\n",
    "\n",
    "fs_client_id = fs_credentials['client-id']\n",
    "fs_client_secret = fs_credentials['client-secret']\n",
    "\n"
   ]
  },
  {
   "cell_type": "code",
   "execution_count": 69,
   "metadata": {},
   "outputs": [],
   "source": [
    "client = foursquare.Foursquare(client_id=fs_client_id, client_secret=fs_client_secret)"
   ]
  },
  {
   "cell_type": "code",
   "execution_count": 70,
   "metadata": {},
   "outputs": [
    {
     "name": "stdout",
     "output_type": "stream",
     "text": [
      "(u'4ae289b9f964a520e78e21e3', u'Cafe Tiramisu')\n"
     ]
    }
   ],
   "source": [
    "def fs_idlookup(name, latlong):\n",
    "    location_str = latlong.lstrip('(').rstrip(')')\n",
    "    object =  client.venues.search(params={'query': name, 'll': location_str, 'limit': 1, 'intent': '\"match\"' }) \n",
    "    if object['venues']:\n",
    "        return (object['venues'][0]['id'], object['venues'][0]['name'])\n",
    "    else:\n",
    "        print(object)\n",
    "        print(\"Could not find {0} at {1}\".format(name, latlong))\n",
    "\n",
    "print fs_idlookup(df.business_name[0], df.location[0])\n",
    "# client.venues.search(params={'query': 'Tiramisu Kitchen', 'll': '37.791116, -122.403816', 'limit': 1, 'intent': 'match' })"
   ]
  },
  {
   "cell_type": "code",
   "execution_count": 64,
   "metadata": {},
   "outputs": [
    {
     "name": "stdout",
     "output_type": "stream",
     "text": [
      "{u'venues': []}\n",
      "Could not find OMNI S.F. Hotel - 2nd Floor Pantry at (37.792888, -122.403135)\n"
     ]
    }
   ],
   "source": [
    "fs_ids = {}\n",
    "fs_names = {}\n",
    "for i in range(0,10):\n",
    "    result = fs_idlookup(df.business_name[i], df.location[i])\n",
    "    if result:\n",
    "        id, name = result\n",
    "        fs_ids[i] = id\n",
    "        fs_names[i] = name\n",
    "    \n",
    "df['foursquare_id'] = pd.Series(fs_ids)\n",
    "df['foursquare_name'] = pd.Series(fs_names)"
   ]
  },
  {
   "cell_type": "code",
   "execution_count": 65,
   "metadata": {},
   "outputs": [
    {
     "data": {
      "text/html": [
       "<div>\n",
       "<style>\n",
       "    .dataframe thead tr:only-child th {\n",
       "        text-align: right;\n",
       "    }\n",
       "\n",
       "    .dataframe thead th {\n",
       "        text-align: left;\n",
       "    }\n",
       "\n",
       "    .dataframe tbody tr th {\n",
       "        vertical-align: top;\n",
       "    }\n",
       "</style>\n",
       "<table border=\"1\" class=\"dataframe\">\n",
       "  <thead>\n",
       "    <tr style=\"text-align: right;\">\n",
       "      <th></th>\n",
       "      <th>business_name</th>\n",
       "      <th>location</th>\n",
       "      <th>inspection_score</th>\n",
       "      <th>foursquare_id</th>\n",
       "      <th>foursquare_name</th>\n",
       "    </tr>\n",
       "  </thead>\n",
       "  <tbody>\n",
       "    <tr>\n",
       "      <th>0</th>\n",
       "      <td>Tiramisu Kitchen</td>\n",
       "      <td>(37.791116, -122.403816)</td>\n",
       "      <td>87.400000</td>\n",
       "      <td>4ae289b9f964a520e78e21e3</td>\n",
       "      <td>Cafe Tiramisu</td>\n",
       "    </tr>\n",
       "    <tr>\n",
       "      <th>1</th>\n",
       "      <td>Nrgize Lifestyle Cafe</td>\n",
       "      <td>(37.786848, -122.421547)</td>\n",
       "      <td>94.000000</td>\n",
       "      <td>4c1a7695eac020a1105043c2</td>\n",
       "      <td>Nrgize Lifestyle Cafe</td>\n",
       "    </tr>\n",
       "    <tr>\n",
       "      <th>2</th>\n",
       "      <td>OMNI S.F. Hotel - 2nd Floor Pantry</td>\n",
       "      <td>(37.792888, -122.403135)</td>\n",
       "      <td>96.333333</td>\n",
       "      <td>NaN</td>\n",
       "      <td>NaN</td>\n",
       "    </tr>\n",
       "    <tr>\n",
       "      <th>3</th>\n",
       "      <td>Norman's Ice Cream and Freezes</td>\n",
       "      <td>(37.807155, -122.419004)</td>\n",
       "      <td>87.750000</td>\n",
       "      <td>4bb7d9273db7b71353aa209a</td>\n",
       "      <td>Norman's Ice Cream &amp; Freezes</td>\n",
       "    </tr>\n",
       "    <tr>\n",
       "      <th>4</th>\n",
       "      <td>CHARLIE'S DELI CAFE</td>\n",
       "      <td>(37.747114, -122.413641)</td>\n",
       "      <td>83.200000</td>\n",
       "      <td>4ab90c8bf964a520d27d20e3</td>\n",
       "      <td>Charlie's Deli Cafe</td>\n",
       "    </tr>\n",
       "  </tbody>\n",
       "</table>\n",
       "</div>"
      ],
      "text/plain": [
       "                        business_name                  location  \\\n",
       "0                    Tiramisu Kitchen  (37.791116, -122.403816)   \n",
       "1               Nrgize Lifestyle Cafe  (37.786848, -122.421547)   \n",
       "2  OMNI S.F. Hotel - 2nd Floor Pantry  (37.792888, -122.403135)   \n",
       "3      Norman's Ice Cream and Freezes  (37.807155, -122.419004)   \n",
       "4                 CHARLIE'S DELI CAFE  (37.747114, -122.413641)   \n",
       "\n",
       "   inspection_score             foursquare_id               foursquare_name  \n",
       "0         87.400000  4ae289b9f964a520e78e21e3                 Cafe Tiramisu  \n",
       "1         94.000000  4c1a7695eac020a1105043c2         Nrgize Lifestyle Cafe  \n",
       "2         96.333333                       NaN                           NaN  \n",
       "3         87.750000  4bb7d9273db7b71353aa209a  Norman's Ice Cream & Freezes  \n",
       "4         83.200000  4ab90c8bf964a520d27d20e3           Charlie's Deli Cafe  "
      ]
     },
     "execution_count": 65,
     "metadata": {},
     "output_type": "execute_result"
    }
   ],
   "source": [
    "df.head()"
   ]
  },
  {
   "cell_type": "code",
   "execution_count": 66,
   "metadata": {},
   "outputs": [],
   "source": [
    "df.to_csv(os.path.join('..','datasets','foursquare_idmapping.csv'))"
   ]
  },
  {
   "cell_type": "code",
   "execution_count": null,
   "metadata": {
    "collapsed": true
   },
   "outputs": [],
   "source": []
  }
 ],
 "metadata": {
  "kernelspec": {
   "display_name": "Python 2",
   "language": "python",
   "name": "python2"
  },
  "language_info": {
   "codemirror_mode": {
    "name": "ipython",
    "version": 2
   },
   "file_extension": ".py",
   "mimetype": "text/x-python",
   "name": "python",
   "nbconvert_exporter": "python",
   "pygments_lexer": "ipython2",
   "version": "2.7.13"
  }
 },
 "nbformat": 4,
 "nbformat_minor": 2
}
